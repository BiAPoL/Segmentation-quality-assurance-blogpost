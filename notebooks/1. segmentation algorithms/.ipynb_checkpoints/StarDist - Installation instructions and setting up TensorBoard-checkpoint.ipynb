{
 "cells": [
  {
   "cell_type": "markdown",
   "id": "93191b90-b2b3-42d3-b498-d2f05ef65afe",
   "metadata": {},
   "source": [
    "# StarDist - Installation instructions and setting up Tensorboard"
   ]
  },
  {
   "cell_type": "markdown",
   "id": "6b879737-13b3-4933-b574-5d6e7adb8a82",
   "metadata": {},
   "source": [
    "## Background"
   ]
  },
  {
   "cell_type": "markdown",
   "id": "f0a42b33-6360-45f9-8324-b3d05d0032f6",
   "metadata": {},
   "source": [
    "[StarDist](https://github.com/stardist/stardist) is a cell detection method which predicts a shape representation. It has the advantage that it also works well on crowded cells as it localizes the cell nuclei via star-convex polygons. These serve as an approximation of roundish shapes of cell nuclei ([Schmidt et al. 2018](https://arxiv.org/abs/1806.03535), [Weigert et al. 2020](https://openaccess.thecvf.com/content_WACV_2020/papers/Weigert_Star-convex_Polyhedra_for_3D_Object_Detection_and_Segmentation_in_Microscopy_WACV_2020_paper.pdf)).\n",
    "\n",
    "The mathematical background is that it computes the Euclidean distances r to the object boundary (= until pixel with different object identity is encountered). Also, object probabilities are used which means predictions for pixels closer to the center of each object weight more.\n",
    "\n",
    "From the computational side, a CNN is used which predicts for every pixel a polygon, a U-Net and non-maximum suppression (NMS).\n",
    "\n",
    "For a more in-depth introduction into StarDist check out [this video](https://www.youtube.com/watch?v=Amn_eHRGX5M)"
   ]
  },
  {
   "cell_type": "markdown",
   "id": "f960264f-725c-4270-be66-3f6d4182b7d3",
   "metadata": {},
   "source": [
    "## Installation instructions"
   ]
  },
  {
   "cell_type": "markdown",
   "id": "d613fc9a-cbd1-40b4-a292-e3610c8e2e7b",
   "metadata": {},
   "source": [
    "__I need to reformulate this!!!___\n",
    "\n",
    "- careful with numpy version\n",
    "- tensorflow (depending on GPU you need other version of tensorflow) -> see Lauras plantseg blogpost"
   ]
  },
  {
   "cell_type": "markdown",
   "id": "fa1a4c2d-38e1-4bd6-9a6f-5c9251a0ad34",
   "metadata": {},
   "source": [
    "Before we can start installing packages, you need a __conda/mamba environment__ with all required packages. If you need help installing conda/mamba, check out [this blog post](https://biapol.github.io/blog/mara_lampert/getting_started_with_mambaforge_and_python/readme.html).\n"
   ]
  },
  {
   "cell_type": "markdown",
   "id": "0e557904-761e-4ff3-a6f1-16a52fbc3d26",
   "metadata": {},
   "source": [
    "Now we can install the needed packages. \n",
    "Pay attention to the versions of the libraries that you are installing. Depending on your GPU, you need a different __cuda version__ and __tensorflow version__ to make it work not only on your CPU, but also on your GPU. This is important for your training speed. Check the tensorflow versions and hardware requirements [here](https://www.tensorflow.org/install/pip)."
   ]
  },
  {
   "cell_type": "code",
   "execution_count": null,
   "id": "96054655-573f-4f1f-9e30-b23e2dd75355",
   "metadata": {},
   "outputs": [],
   "source": [
    "mamba create --name stardist_env6 python=3.9 jupyterlab -c conda-forge\n",
    "mamba activate stardist_env6\n",
    "mamba install -c conda-forge cudatoolkit=11.2 cudnn=8.1.0\n",
    "pip install \"tensorflow<2.11\"\n",
    "pip install stardist"
   ]
  },
  {
   "cell_type": "markdown",
   "id": "55b183c7-754d-4a5f-860f-138b81aebc77",
   "metadata": {},
   "source": [
    "## Data, Training, Prediction"
   ]
  },
  {
   "cell_type": "markdown",
   "id": "f438b64f-075c-4223-bc77-66663bcdce88",
   "metadata": {},
   "source": [
    "For information on \n",
    "- how the data should be preprocessed\n",
    "- how to train a StarDist model\n",
    "- how to make a prediction with a trained StarDist model\n",
    "see [the example notebooks in the stardist documentation](https://github.com/stardist/stardist/tree/master/examples/)"
   ]
  },
  {
   "cell_type": "markdown",
   "id": "83a5d83d-734e-4490-92ea-4fbdc4a6e621",
   "metadata": {},
   "source": [
    "## Setting up Tensorboard"
   ]
  },
  {
   "cell_type": "markdown",
   "id": "d9008162-0abe-49a3-ba51-2649f461713e",
   "metadata": {},
   "source": [
    "[TensorBoard](https://github.com/tensorflow/tensorboard/blob/master/README.md) helps to monitor the training of TensorFlow models. \n",
    "\n",
    "A good setup explanation for tensorboard you can find [here](https://www.youtube.com/watch?v=BqgTU7_cBnk).\n",
    "\n",
    "The most important commands are [here](https://neptune.ai/blog/tensorboard-tutorial)."
   ]
  },
  {
   "cell_type": "code",
   "execution_count": null,
   "id": "bd01350a-8f4d-48f1-9018-1d03df33977f",
   "metadata": {},
   "outputs": [],
   "source": [
    "NAME = \"3D-nuclei-segmentation{}\".format(int(time.time()))"
   ]
  },
  {
   "cell_type": "code",
   "execution_count": null,
   "id": "dc35684e-90db-453e-a6b8-11eceb082ec7",
   "metadata": {},
   "outputs": [],
   "source": [
    "tensorboard = TensorBoard(log_dir='logs/{}'.format(NAME))"
   ]
  },
  {
   "cell_type": "markdown",
   "id": "3370aaa8-6567-4a15-ba43-0030509d4493",
   "metadata": {},
   "source": [
    "- in shell activate environment\n",
    "- with cd <path> direct to 'logs/'-directory\n",
    "- run $ tensorboard --logdir=logs/\n",
    "- open this page in browser http://localhost:6006/"
   ]
  }
 ],
 "metadata": {
  "kernelspec": {
   "display_name": "Python 3 (ipykernel)",
   "language": "python",
   "name": "python3"
  },
  "language_info": {
   "codemirror_mode": {
    "name": "ipython",
    "version": 3
   },
   "file_extension": ".py",
   "mimetype": "text/x-python",
   "name": "python",
   "nbconvert_exporter": "python",
   "pygments_lexer": "ipython3",
   "version": "3.9.15"
  }
 },
 "nbformat": 4,
 "nbformat_minor": 5
}
